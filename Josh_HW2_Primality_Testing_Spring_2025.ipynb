{
  "cells": [
    {
      "cell_type": "markdown",
      "metadata": {
        "id": "view-in-github",
        "colab_type": "text"
      },
      "source": [
        "<a href=\"https://colab.research.google.com/github/joshmilstein/git-solo-tutorial/blob/main/Josh_HW2_Primality_Testing_Spring_2025.ipynb\" target=\"_parent\"><img src=\"https://colab.research.google.com/assets/colab-badge.svg\" alt=\"Open In Colab\"/></a>"
      ]
    },
    {
      "cell_type": "markdown",
      "source": [
        "# Important: Use File -> Save a Copy in Drive to create a copy of this document. Edit *your copy* of the file. If you attempt to edit this file, your changes will not be saved."
      ],
      "metadata": {
        "id": "Mz-vGZ6VZ7YN"
      }
    },
    {
      "cell_type": "markdown",
      "metadata": {
        "id": "frtSFvBKQDrV"
      },
      "source": [
        "# Primality Testing\n",
        "\n",
        "In this notebook you will test different primality testing algorithms in terms of their success and running time. First you should use Eratosthenes' sieve to acquire all primes under 10,000."
      ]
    },
    {
      "cell_type": "code",
      "execution_count": null,
      "metadata": {
        "id": "hqtMQerDQDrZ"
      },
      "outputs": [],
      "source": [
        "# Imports\n",
        "import math\n",
        "import random\n",
        "from datetime import datetime\n",
        "import numpy as np\n",
        "\n",
        "N = 10000"
      ]
    },
    {
      "cell_type": "code",
      "execution_count": null,
      "metadata": {
        "id": "ILb4H15eQDrb"
      },
      "outputs": [],
      "source": [
        "def sieve(n: int):\n",
        "    is_prime = np.ones(n + 1, dtype=bool)\n",
        "    is_prime[0] = False\n",
        "    is_prime[1] = False\n",
        "    primes = []\n",
        "    i = 2\n",
        "    n = 2 # iterator to calculate multiples\n",
        "    while i < len(is_prime):\n",
        "      if is_prime[i] is None:\n",
        "        if fermat_is_prime(i):\n",
        "          is_prime[i] = True\n",
        "          primes.append(i)\n",
        "          while i*n < len(is_prime):\n",
        "            is_prime(i*n) = False\n",
        "            n += 1\n",
        "          n = 2\n",
        "        else:\n",
        "          is_prime[i] = False\n",
        "      i += 1\n",
        "    return set(primes)\n",
        "\n",
        "primes = sieve(N)\n",
        "print(len(primes))"
      ]
    },
    {
      "cell_type": "markdown",
      "metadata": {
        "id": "8sWFWoOkQDrc"
      },
      "source": [
        "Write the Fermat primality test"
      ]
    },
    {
      "cell_type": "code",
      "execution_count": null,
      "metadata": {
        "id": "Hu1wyoQqQDrc"
      },
      "outputs": [],
      "source": [
        "def fermat_is_prime(p: int, base=None):\n",
        "    if p == 2: return True\n",
        "    if base is None:\n",
        "        while True:\n",
        "            base = random.randint(2, p)\n",
        "            if math.gcd(p, base) == 1:\n",
        "                break\n",
        "\n",
        "    # TODO: Compute (base)^(p-1) % p. Consider using the `pow` built-in function.\n",
        "    # If the result is 1, return True\n",
        "    # Otherwise, return False\n",
        "    # Make sure that you don't use numbers significantly bigger than `p`\n",
        "    if pow(base, p-1, p) == 1:\n",
        "      return True\n",
        "    return False\n"
      ]
    },
    {
      "cell_type": "markdown",
      "metadata": {
        "id": "quRXhOmfQDrd"
      },
      "source": [
        "Using a single or even a random base might not always work: $2^{340} \\equiv 1\\ (mod\\ 341)$, but $341 = 11 \\cdot 31$ is composite. These numbers are called *pseudoprimes*. There is a proof that for every composite number where the algorithm succeeds for at least one base, it will succeed for at least half of the bases. Write the repeated fermat primality test that answers the primality question correctly with probability $1 - \\delta$. In order to achieve that, you will call `fermat_is_prime` iteratively until the failure probability is less than $\\delta$."
      ]
    },
    {
      "cell_type": "code",
      "execution_count": null,
      "metadata": {
        "id": "q-PjI9pXQDrd"
      },
      "outputs": [],
      "source": [
        "def boosted_fermat(p: int, delta=1e-6):\n",
        "    trust = 1\n",
        "    num_checked = 0\n",
        "    while trust > delta:\n",
        "        # TODO: Use the fermat primality testing multiple times to avoid pseudoprimes\n",
        "        result = fermat_is_prime(p)\n",
        "        num_checked += 1\n",
        "        if not result:\n",
        "          return False\n",
        "        else:\n",
        "          trust = 0.5**num_checked\n",
        "    return True"
      ]
    },
    {
      "cell_type": "markdown",
      "metadata": {
        "id": "l92NtpH9QDre"
      },
      "source": [
        "There exist certain numbers that have **no** (non coprime) bases for which the fermat test works. Those are called [Carmichael numbers](https://en.wikipedia.org/wiki/Carmichael_number). Use your primality testing with $\\delta = 10^{-6}$ to print all Carmichael numbers."
      ]
    },
    {
      "cell_type": "code",
      "execution_count": null,
      "metadata": {
        "id": "0KFHw26lQDre"
      },
      "outputs": [],
      "source": [
        "for p in range(2, N+1):\n",
        "    # TODO: Find all the Carmichael numbers\n",
        "    if boosted_fermat(p, delta=1e-6):\n",
        "        is_compos = False\n",
        "        for j in range (2, p):\n",
        "            if p % j == 0:\n",
        "                is_compos = True\n",
        "                break\n",
        "        if is_compos == True:\n",
        "            print(p)\n",
        "\n",
        "    ..."
      ]
    }
  ],
  "metadata": {
    "kernelspec": {
      "display_name": "Python 3",
      "language": "python",
      "name": "python3"
    },
    "language_info": {
      "codemirror_mode": {
        "name": "ipython",
        "version": 3
      },
      "file_extension": ".py",
      "mimetype": "text/x-python",
      "name": "python",
      "nbconvert_exporter": "python",
      "pygments_lexer": "ipython3",
      "version": "3.7.6"
    },
    "colab": {
      "provenance": [],
      "include_colab_link": true
    }
  },
  "nbformat": 4,
  "nbformat_minor": 0
}